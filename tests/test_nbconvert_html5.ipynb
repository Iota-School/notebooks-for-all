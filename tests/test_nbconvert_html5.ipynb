{
 "cells": [
  {
   "cell_type": "markdown",
   "metadata": {},
   "source": [
    "# `nbconvert_html5` interfaces\n",
    "\n",
    "this project exports tools for making jupyter notebook products more accessible. currently, this project features:\n",
    "* an `nbconvert` template with that uses html5 semantics."
   ]
  },
  {
   "cell_type": "code",
   "execution_count": null,
   "metadata": {},
   "outputs": [],
   "source": [
    "    from nbconvert import  get_exporter, get_export_names\n",
    "    import nbconvert_html5, nbconvert, pathlib, bs4, traitlets\n",
    "    from functools import partial\n",
    "    from pathlib import Path"
   ]
  },
  {
   "cell_type": "markdown",
   "metadata": {},
   "source": [
    "this module exports the `html5` nbconvert template."
   ]
  },
  {
   "cell_type": "code",
   "execution_count": null,
   "metadata": {},
   "outputs": [],
   "source": [
    "    assert \"html5\" in get_export_names(), \"the entry point is not defined.\""
   ]
  },
  {
   "cell_type": "markdown",
   "metadata": {},
   "source": [
    "the two templates - `html` and `html5` - can be loaded and compared."
   ]
  },
  {
   "cell_type": "code",
   "execution_count": null,
   "metadata": {},
   "outputs": [],
   "source": [
    "    html, html5 = get_exporter(\"html\")(), get_exporter(\"html5\")()\n",
    "    config = Path(\"jupyter_nbconvert_config.py\")\n",
    "    if \"__file__\" in locals(): config = Path(locals()[\"__file__\"]).parent  / config        \n",
    "    html5.update_config(traitlets.config.PyFileConfigLoader(str(config.absolute())).load_config())"
   ]
  },
  {
   "cell_type": "markdown",
   "metadata": {},
   "source": [
    "## remediations\n",
    "\n",
    "the major changes to `html5` version are that sections and articles have been added to the cells."
   ]
  },
  {
   "cell_type": "code",
   "execution_count": null,
   "metadata": {},
   "outputs": [],
   "source": [
    "    A = html.from_filename(\"notebooks/lorenz-executed.ipynb\")[0]\n",
    "    B = html5.from_filename(\"notebooks/lorenz-executed.ipynb\")[0]\n",
    "    A, B = map(partial(bs4.BeautifulSoup, features=\"html.parser\"), (A, B))"
   ]
  },
  {
   "cell_type": "markdown",
   "metadata": {},
   "source": [
    "* adding a `main` landmark"
   ]
  },
  {
   "cell_type": "code",
   "execution_count": null,
   "metadata": {},
   "outputs": [],
   "source": [
    "    A.select(\"section\"), len(B.select(\"main\"))"
   ]
  },
  {
   "cell_type": "markdown",
   "metadata": {},
   "source": [
    "* cells are articles"
   ]
  },
  {
   "cell_type": "code",
   "execution_count": null,
   "metadata": {},
   "outputs": [],
   "source": [
    "    A.select(\"article\"), len(B.select(\"article.jp-Cell\"))"
   ]
  },
  {
   "cell_type": "markdown",
   "metadata": {},
   "source": [
    "* outputs are sections"
   ]
  },
  {
   "cell_type": "markdown",
   "metadata": {},
   "source": [
    "## using the configuration to modify tests\n",
    "\n",
    "`jupyter`s configuration system allows us to modify html representations on the fly.\n",
    "see the `jupyter_nbconvert_config.py` for an example where we convert prompts to asides."
   ]
  },
  {
   "cell_type": "code",
   "execution_count": null,
   "metadata": {},
   "outputs": [],
   "source": [
    "    # NBVAL_IGNORE_OUTPUT\n",
    "    SOURCE = Path(\"notebooks/lorenz-executed.ipynb\")\n",
    "    TARGET = SOURCE.with_suffix(\".html\")\n",
    "    !jupyter nbconvert --to html5 --config $config $SOURCE"
   ]
  },
  {
   "cell_type": "markdown",
   "metadata": {},
   "source": [
    "configuration files for manual testing knobs. each round of manual user testing we are testing isolated features. it would be hard, and inconsistent, to infer the documents the users are testing.\n",
    "\n",
    "configuration files act as a way to record all the things we could be testing. it also allows for A/B testing where the configuration files store the inputs.\n",
    "\n",
    "sometimes we are hindered by having too many fixes and too little knowledge of how well they will work. the flagging approach lets us tackle potential fixes independent of user testing. fixes are recorded with flags."
   ]
  }
 ],
 "metadata": {
  "kernelspec": {
   "display_name": "Python [conda env:root] *",
   "language": "python",
   "name": "conda-root-py"
  },
  "language_info": {
   "codemirror_mode": {
    "name": "ipython",
    "version": 3
   },
   "file_extension": ".py",
   "mimetype": "text/x-python",
   "name": "python",
   "nbconvert_exporter": "python",
   "pygments_lexer": "ipython3",
   "version": "3.9.13"
  },
  "vscode": {
   "interpreter": {
    "hash": "fe3da9b82b3647283ed4a64afb514c08b1aa39774194ba3fa7469a9333d7260c"
   }
  },
  "widgets": {
   "application/vnd.jupyter.widget-state+json": {
    "state": {},
    "version_major": 2,
    "version_minor": 0
   }
  }
 },
 "nbformat": 4,
 "nbformat_minor": 4
}
